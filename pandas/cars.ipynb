{
 "cells": [
  {
   "cell_type": "code",
   "execution_count": 1,
   "metadata": {},
   "outputs": [],
   "source": [
    "# Name: Xiaoxue Dong, dong0156, lab section 008\n",
    "# Partner name: Tong Tong, tong0114, lab section 003"
   ]
  },
  {
   "cell_type": "markdown",
   "metadata": {},
   "source": [
    "Task 1 – Worksheet\n",
    "Purpose: Write the code that calculates the average miles per gallon (mpg) for\n",
    "city driving and the average mpg for highway driving.\n",
    "Output: A list with two floats will be created. The first float will be the average mpg for\n",
    "city driving and the second the average mpg for highway driving. Your list must be the final thing displayed.\n"
   ]
  },
  {
   "cell_type": "code",
   "execution_count": 2,
   "metadata": {},
   "outputs": [
    {
     "name": "stdout",
     "output_type": "stream",
     "text": [
      "[16.858974358974358, 23.44017094017094]\n"
     ]
    }
   ],
   "source": [
    "from csv import reader, DictReader\n",
    "from collections import OrderedDict\n",
    "\n",
    "city_mpg_sum = 0\n",
    "hwy_mpg_sum = 0\n",
    "length = 0\n",
    "with open('cars_mpg.csv') as csv_file:\n",
    "    for row in DictReader(csv_file):\n",
    "        city_mpg_sum += float(row['cty'])\n",
    "        hwy_mpg_sum += float(row['hwy'])\n",
    "        length += 1\n",
    "        \n",
    "    avg_city_mpg = city_mpg_sum/length\n",
    "    avg_hwy_mpg = hwy_mpg_sum/length\n",
    "    \n",
    "result = [avg_city_mpg, avg_hwy_mpg]\n",
    "print(result)"
   ]
  },
  {
   "cell_type": "markdown",
   "metadata": {},
   "source": [
    "Task 2 – Worksheet\n",
    "Purpose: Write the code that shows the different types of manufacturers.\n",
    "Output: This should be a set. Be sure to display the set as output."
   ]
  },
  {
   "cell_type": "code",
   "execution_count": 3,
   "metadata": {},
   "outputs": [
    {
     "name": "stdout",
     "output_type": "stream",
     "text": [
      "{'tinker', 'doggie', 'allude', 'hyundai', 'lincoln', 'nissan', 'silver', 'land rover', 'chevron', 'mercury', 'honda', 'subbie', 'volks', 'freeway', 'jeep'}\n"
     ]
    }
   ],
   "source": [
    "with open('cars_mpg.csv') as csv_file:\n",
    "    manufacturers = set()\n",
    "    for row in DictReader(csv_file):\n",
    "        manu = str(row['manufacturer'])    \n",
    "        manufacturers.add(manu)\n",
    "print(manufacturers)"
   ]
  },
  {
   "cell_type": "markdown",
   "metadata": {},
   "source": [
    "Task 3 – Worksheet\n",
    "Purpose: Write the code that calculates the average mpg city driving and the average mpg for highway driving for each manufacturer.\n",
    "Output: You should create a list of two lists. The first list will be for the city and the second list will be for the highway."
   ]
  },
  {
   "cell_type": "code",
   "execution_count": 4,
   "metadata": {},
   "outputs": [
    {
     "name": "stdout",
     "output_type": "stream",
     "text": [
      "[[17.61111111111111, 15.0, 13.135135135135135, 14.0, 24.444444444444443, 18.642857142857142, 13.5, 11.5, 11.333333333333334, 13.25, 18.076923076923077, 17.0, 19.285714285714285, 18.529411764705884, 20.925925925925927], [26.444444444444443, 21.894736842105264, 17.945945945945947, 19.36, 32.55555555555556, 26.857142857142858, 17.625, 16.5, 17.0, 18.0, 24.615384615384617, 26.4, 25.571428571428573, 24.91176470588235, 29.22222222222222]]\n"
     ]
    }
   ],
   "source": [
    "with open('cars_mpg.csv') as csv_file:\n",
    "    avg_mpg_cty = []\n",
    "    avg_mpg_hwy = []\n",
    "    length = 0\n",
    "    cty_sum = 0\n",
    "    hwy_sum = 0\n",
    "    previous_manufacturer = None\n",
    "    for row in DictReader(csv_file):     \n",
    "        if (previous_manufacturer is not None) and (row['manufacturer'] != previous_manufacturer):\n",
    "            avg_mpg_cty.append(cty_sum/length)\n",
    "            avg_mpg_hwy.append(hwy_sum/length)\n",
    "            length = 0\n",
    "            cty_sum = 0\n",
    "            hwy_sum = 0  \n",
    "        cty_sum += float(row['cty'])\n",
    "        hwy_sum += float(row['hwy'])\n",
    "        length += 1\n",
    "        previous_manufacturer = row['manufacturer']\n",
    "        \n",
    "    avg_mpg_cty.append(cty_sum/length)\n",
    "    avg_mpg_hwy.append(hwy_sum/length)   \n",
    "    \n",
    "print([avg_mpg_cty, avg_mpg_hwy])"
   ]
  },
  {
   "cell_type": "markdown",
   "metadata": {},
   "source": [
    "Task 4 – Worksheet\n",
    "Purpose: Write the code that sorts these two lists by the mpg.\n",
    "Output: None"
   ]
  },
  {
   "cell_type": "code",
   "execution_count": 5,
   "metadata": {
    "scrolled": true
   },
   "outputs": [
    {
     "name": "stdout",
     "output_type": "stream",
     "text": [
      "[[11.333333333333334, 11.5, 13.135135135135135, 13.25, 13.5, 14.0, 15.0, 17.0, 17.61111111111111, 18.076923076923077, 18.529411764705884, 18.642857142857142, 19.285714285714285, 20.925925925925927, 24.444444444444443], [16.5, 17.0, 17.625, 17.945945945945947, 18.0, 19.36, 21.894736842105264, 24.615384615384617, 24.91176470588235, 25.571428571428573, 26.4, 26.444444444444443, 26.857142857142858, 29.22222222222222, 32.55555555555556]]\n"
     ]
    }
   ],
   "source": [
    "cty = sorted(avg_mpg_cty)\n",
    "hwy = sorted(avg_mpg_hwy)\n",
    "list1 = [cty,hwy]\n",
    "print(list1)"
   ]
  },
  {
   "cell_type": "markdown",
   "metadata": {},
   "source": [
    "Task 5 – Worksheet\n",
    "Purpose: Import the cars_mpg.csv file into a pandas dataframe.\n",
    "Output: Display the head of the dataframe."
   ]
  },
  {
   "cell_type": "code",
   "execution_count": 6,
   "metadata": {},
   "outputs": [
    {
     "data": {
      "text/html": [
       "<div>\n",
       "<style scoped>\n",
       "    .dataframe tbody tr th:only-of-type {\n",
       "        vertical-align: middle;\n",
       "    }\n",
       "\n",
       "    .dataframe tbody tr th {\n",
       "        vertical-align: top;\n",
       "    }\n",
       "\n",
       "    .dataframe thead th {\n",
       "        text-align: right;\n",
       "    }\n",
       "</style>\n",
       "<table border=\"1\" class=\"dataframe\">\n",
       "  <thead>\n",
       "    <tr style=\"text-align: right;\">\n",
       "      <th></th>\n",
       "      <th>Unnamed: 0</th>\n",
       "      <th>manufacturer</th>\n",
       "      <th>model</th>\n",
       "      <th>displ</th>\n",
       "      <th>year</th>\n",
       "      <th>cyl</th>\n",
       "      <th>trans</th>\n",
       "      <th>drv</th>\n",
       "      <th>cty</th>\n",
       "      <th>hwy</th>\n",
       "      <th>fl</th>\n",
       "      <th>class</th>\n",
       "    </tr>\n",
       "  </thead>\n",
       "  <tbody>\n",
       "  </tbody>\n",
       "</table>\n",
       "</div>"
      ],
      "text/plain": [
       "Empty DataFrame\n",
       "Columns: [Unnamed: 0, manufacturer, model, displ, year, cyl, trans, drv, cty, hwy, fl, class]\n",
       "Index: []"
      ]
     },
     "execution_count": 6,
     "metadata": {},
     "output_type": "execute_result"
    }
   ],
   "source": [
    "import pandas as pd\n",
    "import csv\n",
    "cars = pd.read_csv('cars_mpg.csv')\n",
    "cars.head(0)"
   ]
  },
  {
   "cell_type": "markdown",
   "metadata": {},
   "source": [
    "Task 6 – Worksheet\n",
    "Purpose: Write the code that calculates the maximum mpg for both city and highway driving.\n",
    "Output: Maximum mpg for both city and highway driving."
   ]
  },
  {
   "cell_type": "code",
   "execution_count": 7,
   "metadata": {},
   "outputs": [
    {
     "name": "stdout",
     "output_type": "stream",
     "text": [
      "35\n",
      "44\n"
     ]
    }
   ],
   "source": [
    "max_cty = cars['cty'].max()\n",
    "max_hwy = cars['hwy'].max()\n",
    "print(max_cty)\n",
    "print(max_hwy)"
   ]
  },
  {
   "cell_type": "markdown",
   "metadata": {},
   "source": [
    "Task 7 – Worksheet\n",
    "Purpose: Write the code that calculates the average mpg for city driving and the average mpg for highway driving.\n",
    "Output: Store the results in a dataframe with the column names being mpg_city and mpg_highway."
   ]
  },
  {
   "cell_type": "code",
   "execution_count": 8,
   "metadata": {},
   "outputs": [
    {
     "data": {
      "text/html": [
       "<div>\n",
       "<style scoped>\n",
       "    .dataframe tbody tr th:only-of-type {\n",
       "        vertical-align: middle;\n",
       "    }\n",
       "\n",
       "    .dataframe tbody tr th {\n",
       "        vertical-align: top;\n",
       "    }\n",
       "\n",
       "    .dataframe thead th {\n",
       "        text-align: right;\n",
       "    }\n",
       "</style>\n",
       "<table border=\"1\" class=\"dataframe\">\n",
       "  <thead>\n",
       "    <tr style=\"text-align: right;\">\n",
       "      <th></th>\n",
       "      <th>mpg_cty</th>\n",
       "      <th>mpg_highway</th>\n",
       "    </tr>\n",
       "  </thead>\n",
       "  <tbody>\n",
       "    <tr>\n",
       "      <td>0</td>\n",
       "      <td>16.858974</td>\n",
       "      <td>23.440171</td>\n",
       "    </tr>\n",
       "  </tbody>\n",
       "</table>\n",
       "</div>"
      ],
      "text/plain": [
       "     mpg_cty  mpg_highway\n",
       "0  16.858974    23.440171"
      ]
     },
     "execution_count": 8,
     "metadata": {},
     "output_type": "execute_result"
    }
   ],
   "source": [
    "mpg_cty = cars['cty'].mean()\n",
    "mpg_highway = cars['hwy'].mean()\n",
    "results = pd.DataFrame(columns = ['mpg_cty','mpg_highway'])\n",
    "results.append({'mpg_cty': mpg_cty, 'mpg_highway': mpg_highway}, ignore_index = True)\n"
   ]
  },
  {
   "cell_type": "markdown",
   "metadata": {},
   "source": [
    "Task 8 – Worksheet\n",
    "Purpose: Plot the mpg for highway driving.\n",
    "Output: A plot."
   ]
  },
  {
   "cell_type": "code",
   "execution_count": 10,
   "metadata": {},
   "outputs": [
    {
     "data": {
      "image/png": "[encoded data removed]",
      "text/plain": [
       "<Figure size 432x288 with 1 Axes>"
      ]
     },
     "metadata": {
      "needs_background": "light"
     },
     "output_type": "display_data"
    }
   ],
   "source": [
    "import matplotlib.pyplot as plt\n",
    "cars['hwy'].plot(x = 'frequency', y = 'mpg', kind = 'hist')\n",
    "plt.show()"
   ]
  },
  {
   "cell_type": "code",
   "execution_count": null,
   "metadata": {},
   "outputs": [],
   "source": []
  },
  {
   "cell_type": "code",
   "execution_count": null,
   "metadata": {},
   "outputs": [],
   "source": []
  }
 ],
 "metadata": {
  "kernelspec": {
   "display_name": "Python 3",
   "language": "python",
   "name": "python3"
  },
  "language_info": {
   "codemirror_mode": {
    "name": "ipython",
    "version": 3
   },
   "file_extension": ".py",
   "mimetype": "text/x-python",
   "name": "python",
   "nbconvert_exporter": "python",
   "pygments_lexer": "ipython3",
   "version": "3.7.4"
  }
 },
 "nbformat": 4,
 "nbformat_minor": 2
}
